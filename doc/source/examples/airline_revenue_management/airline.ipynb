{
 "cells": [
  {
   "cell_type": "markdown",
   "source": [
    "Airline Revenue Management: an introduction\n",
    "===================================\n",
    "The example is from Andirs Moller, Werner Romisch, Klaus Weber, Airline Network Revenue Management by Multistage Stochastic Programming.\n",
    "\n",
    "An airline company manages flights between three cities $A,B,C$. In the middle of the three cities, there is a hub serves as a transition point. The company wants to determine the seat protection level for all itineraries, fare classes to maximize the revenue over a horizon of 14 stages. Every stage corresponds to a departure date. Cancellation rate $\\Gamma$ is deterministic. Demand is random. "
   ],
   "metadata": {}
  },
  {
   "cell_type": "markdown",
   "source": [
    "Notation\r\n",
    "-----------\r\n",
    "Itinerary $(i)$: AH, HA, BH, HB, CH, HC, AHB, BHA, AHC, CHA, BHC, CHB  \r\n",
    "Fare class $(j)$: E1, E2, E3, E4, B1, B2 (Four economy classes, two business classes)  \r\n",
    "Flight leg $(l)$: AH, HA, BH, HB, CH, HC  \r\n",
    "Cabin $(k)$: Economy, Business  \r\n",
    " $f_{i,j}$: price of flight (assuming price doesn't change over time and 100 percent refund if cancellation)  \r\n",
    " $d_{i,j,t}$: demand  \r\n",
    " $b_{i,j,t}$: number of fulfilled booking  \r\n",
    " $B_{i,j,t}$: cumulative fulfilled booking  \r\n",
    " $c_{i,j,t}$: number of cancellation  \r\n",
    " $C_{i,j,t}$: cumulative cancellation  \r\n",
    " $\\Gamma_{i}$: cancellation rate  \r\n",
    " $R_{k}$: capacity for each cabin in each flight leg\r\n",
    " "
   ],
   "metadata": {}
  },
  {
   "cell_type": "markdown",
   "source": [
    "Formulation\r\n",
    "----------------\r\n",
    "\\begin{align*}\r\n",
    "\\max~ &\\sum_{t=1}^T\\sum_{i}\\sum_{j}[f_{i,j}^\\top b_{i,j,t} - f_{i,j}^\\top c_{i,j,t}]\\\\\r\n",
    "\\textrm{s.t.}~ &  \\forall t = 1,\\dots,T,\\forall i,\\forall j,\\forall k,\\forall l\\\\\r\n",
    "&B_{i,j,t} = B_{i,j,t-1} + b_{i,j,t}, C_{i,j,t} = C_{i,j,t-1} + c_{i,j,t}\\\\\r\n",
    "&c_{i,j,t} = \\Gamma_{i,j} b_{i,j,t}\\\\\r\n",
    "&A_{kl}(B_t - C_t)\\leq R_{k}\\\\\r\n",
    "&b_{i,j,t}\\leq d_{i,j,t}\\\\\r\n",
    "&B_{i,j,0} = 0, C_{i,j,0} = 0\\\\\r\n",
    "&b_{i,j,t}\\in\\mathbb{Z^+},c_{i,j,t}\\in\\mathbb{Z^+}\r\n",
    "\\end{align*}\r\n",
    "Where $A_{kl}$ is a 0-1 matrix that indicates whether a booking request for a particular itinerary and fare class fills up one unit of cabin capacity in a flight leg. For example, if a booking request is made for class B2 of itinerary AHB. Since this request fills up one unit of business cabin in both flight leg AH and flight leg HB, Entry (AHB,B2) in matrix $A_{B,AH}$ and $A_{B,HB}$ is one."
   ],
   "metadata": {}
  },
  {
   "cell_type": "markdown",
   "source": [
    "Data\n",
    "------"
   ],
   "metadata": {}
  },
  {
   "cell_type": "code",
   "execution_count": 3,
   "source": [
    "import numpy, pandas\r\n",
    "from scipy.stats import beta\r\n",
    "import seaborn\r\n",
    "seaborn.set_style('darkgrid')"
   ],
   "outputs": [],
   "metadata": {}
  },
  {
   "cell_type": "code",
   "execution_count": 4,
   "source": [
    "I = ['AH','HA','BH','HB','CH','HC','AHB','BHA','AHC','CHA','BHC','CHB']\r\n",
    "J = ['B1','B2','E1','E2','E3','E4']\r\n",
    "L = ['AH','HA','BH','HB','CH','HC']\r\n",
    "K = ['B','E']\r\n",
    "Rate = {'AH':0.1,'HA':0.1,'BH':0.1,'HB':0.1,'CH':0.05,'HC':0.05,'AHB':0.05,'BHA':0.05,'AHC':0,'CHA':0,'BHC':0,'CHB':0}  \r\n",
    "R = {'B':24, 'E':215}  "
   ],
   "outputs": [],
   "metadata": {}
  },
  {
   "cell_type": "markdown",
   "source": [
    "There are 14 departure dates thus the problem has 14 stages. We will generate 100 samples for each stage. A random seed is set."
   ],
   "metadata": {}
  },
  {
   "cell_type": "code",
   "execution_count": 5,
   "source": [
    "day = [182,126,84,56,35,21,14,10,7,5,3,2,1,0] \r\n",
    "T = 14"
   ],
   "outputs": [],
   "metadata": {}
  },
  {
   "cell_type": "markdown",
   "source": [
    "Model the uncertain demand\n",
    "--------------------------------------\n",
    "To model the demand process, we need to take into account two things. One is the uncertain total number of cumulative booking requests, the other is the uncertain arrival pattern. The non-homogenous Poisson process is a perfect model to include both of them.  \n",
    "The expected total number of cumulative booking requests over the booking horizon $G_{i,j}$ is assumed to be follow a Gamma distribution. Gamma distribution is chosen due to empirical evidence and analytical convenience that Gamma is the conjugate prior of the Poisson distribution.  \n",
    "Arrival pattern of the booking requests $\\beta_{i,j}(t)$ is assumed to follow Beta distribution to allow flexible shape.   \n",
    "Arrival intensity function of booking requests is then given by $\\lambda_{i,j}(t)=\\beta_{i,j}(t) G_{i,j}$.  \n",
    "Arrival intensity of booking request $d_{i,j}(t)$ over a booking interval $[t_n, t_m]$ is thus $G_{i,j} [F_{\\beta_{i,j}}(t_m)-F_{\\beta_{i,j}}(t_n)]$.  \n",
    "In the end, demand process is modelled by number of booking requests subtracting cancellation. This is acheived by scaling $G_{i,j}$ with a cancelling rate. "
   ],
   "metadata": {}
  },
  {
   "cell_type": "code",
   "execution_count": 6,
   "source": [
    "airFare = pandas.read_csv(\"data/airFare.csv\", index_col = [0,1])"
   ],
   "outputs": [],
   "metadata": {}
  },
  {
   "cell_type": "markdown",
   "source": [
    "The first two columns give parameters of Gamma distribution; the next two columns give parameters of Beta distribution; the last column gives the prices."
   ],
   "metadata": {}
  },
  {
   "cell_type": "code",
   "execution_count": 7,
   "source": [
    "airFare.head(n = 12)"
   ],
   "outputs": [
    {
     "output_type": "execute_result",
     "data": {
      "text/html": [
       "<div>\n",
       "<style scoped>\n",
       "    .dataframe tbody tr th:only-of-type {\n",
       "        vertical-align: middle;\n",
       "    }\n",
       "\n",
       "    .dataframe tbody tr th {\n",
       "        vertical-align: top;\n",
       "    }\n",
       "\n",
       "    .dataframe thead th {\n",
       "        text-align: right;\n",
       "    }\n",
       "</style>\n",
       "<table border=\"1\" class=\"dataframe\">\n",
       "  <thead>\n",
       "    <tr style=\"text-align: right;\">\n",
       "      <th></th>\n",
       "      <th></th>\n",
       "      <th>k</th>\n",
       "      <th>theta</th>\n",
       "      <th>a</th>\n",
       "      <th>b</th>\n",
       "      <th>fare</th>\n",
       "    </tr>\n",
       "    <tr>\n",
       "      <th>i</th>\n",
       "      <th>j</th>\n",
       "      <th></th>\n",
       "      <th></th>\n",
       "      <th></th>\n",
       "      <th></th>\n",
       "      <th></th>\n",
       "    </tr>\n",
       "  </thead>\n",
       "  <tbody>\n",
       "    <tr>\n",
       "      <th rowspan=\"6\" valign=\"top\">AH</th>\n",
       "      <th>B1</th>\n",
       "      <td>3.00</td>\n",
       "      <td>1.5</td>\n",
       "      <td>12</td>\n",
       "      <td>1.5</td>\n",
       "      <td>500</td>\n",
       "    </tr>\n",
       "    <tr>\n",
       "      <th>B2</th>\n",
       "      <td>3.00</td>\n",
       "      <td>1.5</td>\n",
       "      <td>8</td>\n",
       "      <td>2.0</td>\n",
       "      <td>340</td>\n",
       "    </tr>\n",
       "    <tr>\n",
       "      <th>E1</th>\n",
       "      <td>10.00</td>\n",
       "      <td>1.2</td>\n",
       "      <td>6</td>\n",
       "      <td>2.0</td>\n",
       "      <td>200</td>\n",
       "    </tr>\n",
       "    <tr>\n",
       "      <th>E2</th>\n",
       "      <td>13.33</td>\n",
       "      <td>1.2</td>\n",
       "      <td>4</td>\n",
       "      <td>3.0</td>\n",
       "      <td>160</td>\n",
       "    </tr>\n",
       "    <tr>\n",
       "      <th>E3</th>\n",
       "      <td>22.00</td>\n",
       "      <td>1.0</td>\n",
       "      <td>3</td>\n",
       "      <td>4.0</td>\n",
       "      <td>130</td>\n",
       "    </tr>\n",
       "    <tr>\n",
       "      <th>E4</th>\n",
       "      <td>30.00</td>\n",
       "      <td>1.0</td>\n",
       "      <td>2</td>\n",
       "      <td>4.0</td>\n",
       "      <td>100</td>\n",
       "    </tr>\n",
       "    <tr>\n",
       "      <th rowspan=\"6\" valign=\"top\">HA</th>\n",
       "      <th>B1</th>\n",
       "      <td>3.00</td>\n",
       "      <td>1.5</td>\n",
       "      <td>12</td>\n",
       "      <td>1.5</td>\n",
       "      <td>500</td>\n",
       "    </tr>\n",
       "    <tr>\n",
       "      <th>B2</th>\n",
       "      <td>3.00</td>\n",
       "      <td>1.5</td>\n",
       "      <td>8</td>\n",
       "      <td>2.0</td>\n",
       "      <td>340</td>\n",
       "    </tr>\n",
       "    <tr>\n",
       "      <th>E1</th>\n",
       "      <td>10.00</td>\n",
       "      <td>1.2</td>\n",
       "      <td>6</td>\n",
       "      <td>2.0</td>\n",
       "      <td>200</td>\n",
       "    </tr>\n",
       "    <tr>\n",
       "      <th>E2</th>\n",
       "      <td>13.33</td>\n",
       "      <td>1.2</td>\n",
       "      <td>4</td>\n",
       "      <td>3.0</td>\n",
       "      <td>160</td>\n",
       "    </tr>\n",
       "    <tr>\n",
       "      <th>E3</th>\n",
       "      <td>22.00</td>\n",
       "      <td>1.0</td>\n",
       "      <td>3</td>\n",
       "      <td>4.0</td>\n",
       "      <td>130</td>\n",
       "    </tr>\n",
       "    <tr>\n",
       "      <th>E4</th>\n",
       "      <td>30.00</td>\n",
       "      <td>1.0</td>\n",
       "      <td>2</td>\n",
       "      <td>4.0</td>\n",
       "      <td>100</td>\n",
       "    </tr>\n",
       "  </tbody>\n",
       "</table>\n",
       "</div>"
      ],
      "text/plain": [
       "           k  theta   a    b  fare\n",
       "i  j                              \n",
       "AH B1   3.00    1.5  12  1.5   500\n",
       "   B2   3.00    1.5   8  2.0   340\n",
       "   E1  10.00    1.2   6  2.0   200\n",
       "   E2  13.33    1.2   4  3.0   160\n",
       "   E3  22.00    1.0   3  4.0   130\n",
       "   E4  30.00    1.0   2  4.0   100\n",
       "HA B1   3.00    1.5  12  1.5   500\n",
       "   B2   3.00    1.5   8  2.0   340\n",
       "   E1  10.00    1.2   6  2.0   200\n",
       "   E2  13.33    1.2   4  3.0   160\n",
       "   E3  22.00    1.0   3  4.0   130\n",
       "   E4  30.00    1.0   2  4.0   100"
      ]
     },
     "metadata": {},
     "execution_count": 7
    }
   ],
   "metadata": {}
  },
  {
   "cell_type": "code",
   "execution_count": 11,
   "source": [
    "def demand_sampler(random_state, size):\r\n",
    "\r\n",
    "    demand = numpy.zeros([size,T,len(I)*len(J)])\r\n",
    "    \r\n",
    "    for i_idx,i in enumerate(I):\r\n",
    "    \r\n",
    "        for j_idx,j in enumerate(J):\r\n",
    "    \r\n",
    "            gamma_k,gamma_theta,beta_a,beta_b = airFare.loc[i,j][:4]\r\n",
    "            G = random_state.gamma(gamma_k, gamma_theta, size=size) * (1-Rate[i])\r\n",
    "    \r\n",
    "            for t in range(1,T):\r\n",
    "    \r\n",
    "                B = (\r\n",
    "                    beta.cdf(1-day[t]/day[0], beta_a, beta_b) \r\n",
    "                    - beta.cdf(1-day[t-1]/day[0], beta_a, beta_b)\r\n",
    "                )\r\n",
    "    \r\n",
    "                demand[:,t,6*i_idx+j_idx] = random_state.poisson(G*B)\r\n",
    "    return demand\r\n"
   ],
   "outputs": [],
   "metadata": {}
  },
  {
   "cell_type": "code",
   "execution_count": 7,
   "source": [
    "airFare.head(10)"
   ],
   "outputs": [
    {
     "output_type": "execute_result",
     "data": {
      "text/html": [
       "<div>\n",
       "<style scoped>\n",
       "    .dataframe tbody tr th:only-of-type {\n",
       "        vertical-align: middle;\n",
       "    }\n",
       "\n",
       "    .dataframe tbody tr th {\n",
       "        vertical-align: top;\n",
       "    }\n",
       "\n",
       "    .dataframe thead th {\n",
       "        text-align: right;\n",
       "    }\n",
       "</style>\n",
       "<table border=\"1\" class=\"dataframe\">\n",
       "  <thead>\n",
       "    <tr style=\"text-align: right;\">\n",
       "      <th></th>\n",
       "      <th></th>\n",
       "      <th>k</th>\n",
       "      <th>theta</th>\n",
       "      <th>a</th>\n",
       "      <th>b</th>\n",
       "      <th>fare</th>\n",
       "    </tr>\n",
       "    <tr>\n",
       "      <th>i</th>\n",
       "      <th>j</th>\n",
       "      <th></th>\n",
       "      <th></th>\n",
       "      <th></th>\n",
       "      <th></th>\n",
       "      <th></th>\n",
       "    </tr>\n",
       "  </thead>\n",
       "  <tbody>\n",
       "    <tr>\n",
       "      <th rowspan=\"6\" valign=\"top\">AH</th>\n",
       "      <th>B1</th>\n",
       "      <td>3.00</td>\n",
       "      <td>1.5</td>\n",
       "      <td>12</td>\n",
       "      <td>1.5</td>\n",
       "      <td>500</td>\n",
       "    </tr>\n",
       "    <tr>\n",
       "      <th>B2</th>\n",
       "      <td>3.00</td>\n",
       "      <td>1.5</td>\n",
       "      <td>8</td>\n",
       "      <td>2.0</td>\n",
       "      <td>340</td>\n",
       "    </tr>\n",
       "    <tr>\n",
       "      <th>E1</th>\n",
       "      <td>10.00</td>\n",
       "      <td>1.2</td>\n",
       "      <td>6</td>\n",
       "      <td>2.0</td>\n",
       "      <td>200</td>\n",
       "    </tr>\n",
       "    <tr>\n",
       "      <th>E2</th>\n",
       "      <td>13.33</td>\n",
       "      <td>1.2</td>\n",
       "      <td>4</td>\n",
       "      <td>3.0</td>\n",
       "      <td>160</td>\n",
       "    </tr>\n",
       "    <tr>\n",
       "      <th>E3</th>\n",
       "      <td>22.00</td>\n",
       "      <td>1.0</td>\n",
       "      <td>3</td>\n",
       "      <td>4.0</td>\n",
       "      <td>130</td>\n",
       "    </tr>\n",
       "    <tr>\n",
       "      <th>E4</th>\n",
       "      <td>30.00</td>\n",
       "      <td>1.0</td>\n",
       "      <td>2</td>\n",
       "      <td>4.0</td>\n",
       "      <td>100</td>\n",
       "    </tr>\n",
       "    <tr>\n",
       "      <th rowspan=\"4\" valign=\"top\">HA</th>\n",
       "      <th>B1</th>\n",
       "      <td>3.00</td>\n",
       "      <td>1.5</td>\n",
       "      <td>12</td>\n",
       "      <td>1.5</td>\n",
       "      <td>500</td>\n",
       "    </tr>\n",
       "    <tr>\n",
       "      <th>B2</th>\n",
       "      <td>3.00</td>\n",
       "      <td>1.5</td>\n",
       "      <td>8</td>\n",
       "      <td>2.0</td>\n",
       "      <td>340</td>\n",
       "    </tr>\n",
       "    <tr>\n",
       "      <th>E1</th>\n",
       "      <td>10.00</td>\n",
       "      <td>1.2</td>\n",
       "      <td>6</td>\n",
       "      <td>2.0</td>\n",
       "      <td>200</td>\n",
       "    </tr>\n",
       "    <tr>\n",
       "      <th>E2</th>\n",
       "      <td>13.33</td>\n",
       "      <td>1.2</td>\n",
       "      <td>4</td>\n",
       "      <td>3.0</td>\n",
       "      <td>160</td>\n",
       "    </tr>\n",
       "  </tbody>\n",
       "</table>\n",
       "</div>"
      ],
      "text/plain": [
       "           k  theta   a    b  fare\n",
       "i  j                              \n",
       "AH B1   3.00    1.5  12  1.5   500\n",
       "   B2   3.00    1.5   8  2.0   340\n",
       "   E1  10.00    1.2   6  2.0   200\n",
       "   E2  13.33    1.2   4  3.0   160\n",
       "   E3  22.00    1.0   3  4.0   130\n",
       "   E4  30.00    1.0   2  4.0   100\n",
       "HA B1   3.00    1.5  12  1.5   500\n",
       "   B2   3.00    1.5   8  2.0   340\n",
       "   E1  10.00    1.2   6  2.0   200\n",
       "   E2  13.33    1.2   4  3.0   160"
      ]
     },
     "metadata": {},
     "execution_count": 7
    }
   ],
   "metadata": {
    "scrolled": true
   }
  },
  {
   "cell_type": "markdown",
   "source": [
    "Solution\n",
    "-----------"
   ],
   "metadata": {}
  },
  {
   "cell_type": "code",
   "execution_count": 8,
   "source": [
    "from msppy.msp import MSIP\r\n",
    "from msppy.solver import SDDiP\r\n",
    "import gurobipy\r\n",
    "from msppy.evaluation import Evaluation, EvaluationTrue"
   ],
   "outputs": [],
   "metadata": {}
  },
  {
   "cell_type": "markdown",
   "source": [
    "Consider using Strengthened Benders' cuts to solve the MSIP. For illustration purpose, the Markov chain approximation below is very coarse and I only run SDDiP for 10 iterations. "
   ],
   "metadata": {}
  },
  {
   "cell_type": "code",
   "execution_count": 9,
   "source": [
    "airline = MSIP(T, sense=-1)\r\n",
    "airline.add_Markovian_uncertainty(demand_sampler)\r\n",
    "for t in range(T):\r\n",
    "    m = airline[t]\r\n",
    "    # accumulated fulfilled booking requests\r\n",
    "    B_now, B_past = m.addStateVars(I,J, vtype='I', name=\"B\")\r\n",
    "    # accumulated cancellation\r\n",
    "    C_now, C_past = m.addStateVars(I,J, vtype='I', name=\"C\")\r\n",
    "    if t == 0:\r\n",
    "        m.addConstrs(B_now[(i,j)] == 0 for i in I for j in J)\r\n",
    "        m.addConstrs(C_now[(i,j)] == 0 for i in I for j in J)\r\n",
    "    else:\r\n",
    "        # new fulfilled booking requests\r\n",
    "        b = m.addVars(I,J, obj=numpy.array(airFare['fare']), name=\"b\", vtype='I')\r\n",
    "        c = m.addVars(I,J, obj=-numpy.array(airFare['fare']), name=\"c\", vtype='I')\r\n",
    "        # accumulated fulfilled booking requests updated\r\n",
    "        m.addConstrs(B_now[(i,j)] == B_past[(i,j)] + b[(i,j)] for i in I for j in J)\r\n",
    "        m.addConstrs(C_now[(i,j)] == C_past[(i,j)] + c[(i,j)] for i in I for j in J)\r\n",
    "        # number of cancellation is depending on the cancellation rate\r\n",
    "        m.addConstrs(C_now[(i,j)] <= Rate[i] * B_now[(i,j)] + 0.5 for i in I for j in J)\r\n",
    "        m.addConstrs(C_now[(i,j)] >= Rate[i] * B_now[(i,j)] - 0.5 for i in I for j in J)\r\n",
    "        # capacity constraint\r\n",
    "        m.addConstrs(\r\n",
    "            gurobipy.quicksum(\r\n",
    "                B_now[(i,j)] - C_now[(i,j)] for i in I for j in J\r\n",
    "                if l in i and j.startswith(k)\r\n",
    "            )\r\n",
    "            <= R[k] for k in K for l in L\r\n",
    "        )\r\n",
    "        m.addConstrs(\r\n",
    "            (b[(i,j)] <= 0 for i in I for j in J),\r\n",
    "            uncertainty_dependent=[\r\n",
    "                6*i+j for i in range(len(I)) for j in range(len(J))\r\n",
    "            ]\r\n",
    "        )\r\n",
    "airline.discretize(\r\n",
    "    method='SA',\r\n",
    "    n_Markov_states=10,\r\n",
    "    n_sample_paths=10*1000,\r\n",
    "    int_flag=1,\r\n",
    ")\r\n",
    "airline_sddp = SDDiP(airline)\r\n",
    "airline_sddp.solve(cuts=['SB'], max_iterations=30, logToConsole=0)\r\n",
    "result = Evaluation(airline)\r\n",
    "result.run(n_simulations=100)\r\n",
    "resultTrue = EvaluationTrue(airline)\r\n",
    "resultTrue.run(n_simulations=100)"
   ],
   "outputs": [
    {
     "output_type": "stream",
     "name": "stdout",
     "text": [
      "Academic license - for non-commercial use only\n",
      "Academic license - for non-commercial use only\n",
      "Academic license - for non-commercial use only\n",
      "Academic license - for non-commercial use only\n",
      "Academic license - for non-commercial use only\n",
      "Academic license - for non-commercial use only\n",
      "Academic license - for non-commercial use only\n",
      "Academic license - for non-commercial use only\n",
      "Academic license - for non-commercial use only\n",
      "Academic license - for non-commercial use only\n",
      "Academic license - for non-commercial use only\n",
      "Academic license - for non-commercial use only\n",
      "Academic license - for non-commercial use only\n",
      "Academic license - for non-commercial use only\n"
     ]
    }
   ],
   "metadata": {}
  },
  {
   "cell_type": "code",
   "execution_count": 10,
   "source": [
    "airline_sddp.plot_bounds();"
   ],
   "outputs": [
    {
     "output_type": "display_data",
     "data": {
      "image/png": "[encoded data removed]",
      "text/plain": [
       "<Figure size 432x288 with 1 Axes>"
      ]
     },
     "metadata": {
      "needs_background": "light"
     }
    }
   ],
   "metadata": {}
  }
 ],
 "metadata": {
  "anaconda-cloud": {},
  "kernelspec": {
   "name": "python3",
   "display_name": "Python 3.6.12 64-bit ('demand-sensing': conda)"
  },
  "language_info": {
   "codemirror_mode": {
    "name": "ipython",
    "version": 3
   },
   "file_extension": ".py",
   "mimetype": "text/x-python",
   "name": "python",
   "nbconvert_exporter": "python",
   "pygments_lexer": "ipython3",
   "version": "3.6.12"
  },
  "interpreter": {
   "hash": "a46e2f7500d66055f96e7ae416c882007eca9f4a14c73a292f4514f76fd1ea87"
  }
 },
 "nbformat": 4,
 "nbformat_minor": 2
}